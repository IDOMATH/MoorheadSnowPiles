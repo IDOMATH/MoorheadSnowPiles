{
 "cells": [
  {
   "cell_type": "code",
   "execution_count": 2,
   "metadata": {
    "collapsed": true
   },
   "outputs": [],
   "source": [
    "data1 = [1, 0, 1, 0, 1, 0, 1, 0, 1, 0, 1, 0, 1, 0, 1, 0]\n",
    "data2 = [0, 1, 0, 1, 0, 1, 0, 1, 0, 1, 0, 1, 0, 1, 0, 1]\n",
    "data3 = [1, 1, 0, 0, 1, 1, 0, 0, 1, 1, 0, 0, 1, 1, 0, 0]\n",
    "data4 = [0, 0, 1, 1, 0, 0, 1, 1, 0, 0, 1, 1, 0, 0, 1, 1]\n",
    "data5 = [1, 1, 1, 1, 0, 0, 0, 0, 1, 1, 1, 1, 0, 0, 0, 0]\n",
    "data6 = [0, 0, 0, 0, 1, 1, 1, 1, 0, 0, 0, 0, 1, 1, 1, 1]\n",
    "data7 = [1, 0, 0, 0, 1, 1, 0, 1, 0, 1, 1, 1, 0, 1, 1, 0]\n",
    "data8 = [1, 1, 0, 1, 1, 1, 1, 1, 0, 1, 1, 1, 1, 0, 1, 1]\n",
    "data9 = [0, 0, 1, 0, 0, 0, 0, 0, 1, 0, 0, 0, 0, 1, 0, 0]\n",
    "data10 = [1, 1, 1, 1, 1, 1, 1, 1, 1, 1, 1, 1, 1, 1, 1, 1]\n",
    "\n",
    "clock = [0, 1, 0, 1, 0, 1, 0, 1, 0, 1, 0, 1, 0, 1, 0, 1, 0, 1, 0, 1, 0, 1, 0, 1, 0, 1, 0, 1, 0, 1, 0, 1]"
   ]
  },
  {
   "cell_type": "code",
   "execution_count": 3,
   "metadata": {
    "collapsed": false
   },
   "outputs": [
    {
     "name": "stdout",
     "output_type": "stream",
     "text": [
      "The original string to be encoded is: \n",
      "[1, 0, 1, 0, 1, 0, 1, 0, 1, 0, 1, 0, 1, 0, 1, 0]\n",
      "The resulting non-return to zero string is: \n",
      "[1, 1, 0, 0, 1, 1, 0, 0, 1, 1, 0, 0, 1, 1, 0, 0, 1, 1, 0, 0, 1, 1, 0, 0, 1, 1, 0, 0, 1, 1, 0, 0]\n"
     ]
    }
   ],
   "source": [
    "NonReturn = []\n",
    "\n",
    "state = data1[0]\n",
    "for bit in data1:\n",
    "    state = bit\n",
    "    NonReturn.append(state)\n",
    "    NonReturn.append(state)\n",
    "    \n",
    "print (\"The original string to be encoded is: \")\n",
    "print (data1)\n",
    "\n",
    "print (\"The resulting non-return to zero string is: \")\n",
    "print (NonReturn)"
   ]
  },
  {
   "cell_type": "code",
   "execution_count": 4,
   "metadata": {
    "collapsed": false
   },
   "outputs": [
    {
     "name": "stdout",
     "output_type": "stream",
     "text": [
      "The original string to be encoded is: \n",
      "[0, 1, 0, 1, 0, 1, 0, 1, 0, 1, 0, 1, 0, 1, 0, 1]\n",
      "The resulting non-return to zero inverted string is: \n",
      "[1, 1, 1, 1, 0, 0, 0, 0, 1, 1, 1, 1, 0, 0, 0, 0, 1, 1, 1, 1, 0, 0, 0, 0, 1, 1, 1, 1, 0, 0, 0, 0]\n"
     ]
    }
   ],
   "source": [
    "NonReturnInverted = []\n",
    "\n",
    "state = data2[0]\n",
    "for bit in data2:\n",
    "    state ^= bit ^ 1\n",
    "    NonReturnInverted.append(state)\n",
    "    NonReturnInverted.append(state)\n",
    "    \n",
    "print (\"The original string to be encoded is: \")\n",
    "print (data2)\n",
    "\n",
    "print (\"The resulting non-return to zero inverted string is: \")\n",
    "print (NonReturnInverted)"
   ]
  },
  {
   "cell_type": "code",
   "execution_count": 5,
   "metadata": {
    "collapsed": false
   },
   "outputs": [
    {
     "name": "stdout",
     "output_type": "stream",
     "text": [
      "The original string to be encoded is: \n",
      "[1, 1, 0, 0, 1, 1, 0, 0, 1, 1, 0, 0, 1, 1, 0, 0]\n",
      "The resulting manchester string is: \n",
      "[1, 0, 1, 0, 0, 1, 0, 1, 1, 0, 1, 0, 0, 1, 0, 1, 1, 0, 1, 0, 0, 1, 0, 1, 1, 0, 1, 0, 0, 1, 0, 1]\n"
     ]
    }
   ],
   "source": [
    "Manchester = []\n",
    "\n",
    "i = 0\n",
    "for bit in data3:\n",
    "    if bit == 0:\n",
    "        Manchester.append(clock[i])\n",
    "        i = i + 1\n",
    "        Manchester.append(clock[i])\n",
    "        i = i + 1\n",
    "        \n",
    "    else:\n",
    "        Manchester.append(~clock[i] + 2)\n",
    "        i = i + 1\n",
    "        Manchester.append(~clock[i] + 2)\n",
    "        i = i + 1\n",
    "        \n",
    "print (\"The original string to be encoded is: \")\n",
    "print (data3)\n",
    "\n",
    "print (\"The resulting manchester string is: \")\n",
    "print (Manchester)"
   ]
  },
  {
   "cell_type": "code",
   "execution_count": 6,
   "metadata": {
    "collapsed": false
   },
   "outputs": [
    {
     "name": "stdout",
     "output_type": "stream",
     "text": [
      "The original string to be encoded is: \n",
      "[0, 0, 1, 1, 0, 0, 1, 1, 0, 0, 1, 1, 0, 0, 1, 1]\n",
      "The resulting bipolar string is: \n",
      "[0, 0, 0, 0, '+', '+', '-', '-', 0, 0, 0, 0, '+', '+', '-', '-', 0, 0, 0, 0, '+', '+', '-', '-', 0, 0, 0, 0, '+', '+', '-', '-']\n"
     ]
    }
   ],
   "source": [
    "Bipolar = []\n",
    "\n",
    "i = 0\n",
    "b = 1\n",
    "for bit in data4:\n",
    "    if bit == 0:\n",
    "        Bipolar.append(data4[i])\n",
    "        Bipolar.append(data4[i])\n",
    "    else: \n",
    "        if b%2 == 0:\n",
    "            Bipolar.append(\"-\")\n",
    "            Bipolar.append(\"-\")\n",
    "            b = b + 1\n",
    "        else:\n",
    "            Bipolar.append(\"+\")\n",
    "            Bipolar.append(\"+\")\n",
    "            b = b + 1\n",
    "print (\"The original string to be encoded is: \")\n",
    "print (data4)\n",
    "\n",
    "print (\"The resulting bipolar string is: \")\n",
    "print (Bipolar)"
   ]
  },
  {
   "cell_type": "markdown",
   "metadata": {},
   "source": [
    "# Four Bit Five Bit encoding"
   ]
  },
  {
   "cell_type": "code",
   "execution_count": 9,
   "metadata": {
    "collapsed": false
   },
   "outputs": [
    {
     "name": "stdout",
     "output_type": "stream",
     "text": [
      "[]\n"
     ]
    }
   ],
   "source": [
    "FourBitFiveBit = []\n",
    "\n",
    "i = 3\n",
    "j = 0\n",
    "\n",
    "while i < 16:\n",
    "    if data5[j:i] == [1, 1, 1, 1]:\n",
    "        FourBitFiveBit.append(\"1, 1, 1, 0, 1\")\n",
    "    elif data5[j:i] == [0, 0, 0, 0]:\n",
    "        FourBitFiveBit.append(\"1, 0, 0, 1, 0\")\n",
    "    i = i + 4\n",
    "    j = j + 4\n",
    "\n",
    "print (FourBitFiveBit)"
   ]
  },
  {
   "cell_type": "code",
   "execution_count": null,
   "metadata": {
    "collapsed": true
   },
   "outputs": [],
   "source": []
  },
  {
   "cell_type": "code",
   "execution_count": null,
   "metadata": {
    "collapsed": true
   },
   "outputs": [],
   "source": []
  }
 ],
 "metadata": {
  "anaconda-cloud": {},
  "kernelspec": {
   "display_name": "Python [Root]",
   "language": "python",
   "name": "Python [Root]"
  },
  "language_info": {
   "codemirror_mode": {
    "name": "ipython",
    "version": 3
   },
   "file_extension": ".py",
   "mimetype": "text/x-python",
   "name": "python",
   "nbconvert_exporter": "python",
   "pygments_lexer": "ipython3",
   "version": "3.5.2"
  }
 },
 "nbformat": 4,
 "nbformat_minor": 0
}
